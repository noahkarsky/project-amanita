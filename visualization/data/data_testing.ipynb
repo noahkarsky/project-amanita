{
 "cells": [
  {
   "cell_type": "code",
   "execution_count": 2,
   "metadata": {},
   "outputs": [],
   "source": [
    "import pandas as pd"
   ]
  },
  {
   "cell_type": "code",
   "execution_count": 23,
   "metadata": {},
   "outputs": [],
   "source": [
    "#import nodes.csv and edges.csv\n",
    "#node data format is like this:\n",
    "nodes = pd.read_csv('nodes.csv',index_col=0)"
   ]
  },
  {
   "cell_type": "code",
   "execution_count": 24,
   "metadata": {},
   "outputs": [],
   "source": [
    "#remove the surrounding [] and \"\"\n",
    "nodes['labels'] = nodes['labels'].apply(lambda x: x[2:-2])"
   ]
  },
  {
   "cell_type": "code",
   "execution_count": 25,
   "metadata": {},
   "outputs": [
    {
     "data": {
      "text/html": [
       "<div>\n",
       "<style scoped>\n",
       "    .dataframe tbody tr th:only-of-type {\n",
       "        vertical-align: middle;\n",
       "    }\n",
       "\n",
       "    .dataframe tbody tr th {\n",
       "        vertical-align: top;\n",
       "    }\n",
       "\n",
       "    .dataframe thead th {\n",
       "        text-align: right;\n",
       "    }\n",
       "</style>\n",
       "<table border=\"1\" class=\"dataframe\">\n",
       "  <thead>\n",
       "    <tr style=\"text-align: right;\">\n",
       "      <th></th>\n",
       "      <th>labels</th>\n",
       "      <th>properties</th>\n",
       "    </tr>\n",
       "    <tr>\n",
       "      <th>id</th>\n",
       "      <th></th>\n",
       "      <th></th>\n",
       "    </tr>\n",
       "  </thead>\n",
       "  <tbody>\n",
       "    <tr>\n",
       "      <th>1</th>\n",
       "      <td>program</td>\n",
       "      <td>{\"id\":1,\"labels\":[\"program\"],\"properties\":{\"en...</td>\n",
       "    </tr>\n",
       "    <tr>\n",
       "      <th>2</th>\n",
       "      <td>person</td>\n",
       "      <td>{\"id\":2,\"labels\":[\"person\"],\"properties\":{\"not...</td>\n",
       "    </tr>\n",
       "    <tr>\n",
       "      <th>4</th>\n",
       "      <td>position</td>\n",
       "      <td>{\"id\":4,\"labels\":[\"position\"],\"properties\":{\"n...</td>\n",
       "    </tr>\n",
       "    <tr>\n",
       "      <th>6</th>\n",
       "      <td>publication</td>\n",
       "      <td>{\"id\":6,\"labels\":[\"publication\"],\"properties\":...</td>\n",
       "    </tr>\n",
       "    <tr>\n",
       "      <th>7</th>\n",
       "      <td>event</td>\n",
       "      <td>{\"id\":7,\"labels\":[\"event\"],\"properties\":{\"note...</td>\n",
       "    </tr>\n",
       "    <tr>\n",
       "      <th>...</th>\n",
       "      <td>...</td>\n",
       "      <td>...</td>\n",
       "    </tr>\n",
       "    <tr>\n",
       "      <th>523</th>\n",
       "      <td>publication</td>\n",
       "      <td>{\"id\":523,\"labels\":[\"publication\"],\"properties...</td>\n",
       "    </tr>\n",
       "    <tr>\n",
       "      <th>525</th>\n",
       "      <td>organization</td>\n",
       "      <td>{\"id\":525,\"labels\":[\"organization\"],\"propertie...</td>\n",
       "    </tr>\n",
       "    <tr>\n",
       "      <th>526</th>\n",
       "      <td>person</td>\n",
       "      <td>{\"id\":526,\"labels\":[\"person\"],\"properties\":{\"n...</td>\n",
       "    </tr>\n",
       "    <tr>\n",
       "      <th>527</th>\n",
       "      <td>organization</td>\n",
       "      <td>{\"id\":527,\"labels\":[\"organization\"],\"propertie...</td>\n",
       "    </tr>\n",
       "    <tr>\n",
       "      <th>528</th>\n",
       "      <td>publication</td>\n",
       "      <td>{\"id\":528,\"labels\":[\"publication\"],\"properties...</td>\n",
       "    </tr>\n",
       "  </tbody>\n",
       "</table>\n",
       "<p>417 rows × 2 columns</p>\n",
       "</div>"
      ],
      "text/plain": [
       "           labels                                         properties\n",
       "id                                                                  \n",
       "1         program  {\"id\":1,\"labels\":[\"program\"],\"properties\":{\"en...\n",
       "2          person  {\"id\":2,\"labels\":[\"person\"],\"properties\":{\"not...\n",
       "4        position  {\"id\":4,\"labels\":[\"position\"],\"properties\":{\"n...\n",
       "6     publication  {\"id\":6,\"labels\":[\"publication\"],\"properties\":...\n",
       "7           event  {\"id\":7,\"labels\":[\"event\"],\"properties\":{\"note...\n",
       "..            ...                                                ...\n",
       "523   publication  {\"id\":523,\"labels\":[\"publication\"],\"properties...\n",
       "525  organization  {\"id\":525,\"labels\":[\"organization\"],\"propertie...\n",
       "526        person  {\"id\":526,\"labels\":[\"person\"],\"properties\":{\"n...\n",
       "527  organization  {\"id\":527,\"labels\":[\"organization\"],\"propertie...\n",
       "528   publication  {\"id\":528,\"labels\":[\"publication\"],\"properties...\n",
       "\n",
       "[417 rows x 2 columns]"
      ]
     },
     "execution_count": 25,
     "metadata": {},
     "output_type": "execute_result"
    }
   ],
   "source": [
    "nodes"
   ]
  },
  {
   "cell_type": "code",
   "execution_count": 26,
   "metadata": {},
   "outputs": [
    {
     "data": {
      "text/plain": [
       "array(['program', 'person', 'position', 'publication', 'event', 'place',\n",
       "       'concept', 'organization', 'group', 'date', 'civilian_contractor',\n",
       "       'object', 'technology'], dtype=object)"
      ]
     },
     "execution_count": 26,
     "metadata": {},
     "output_type": "execute_result"
    }
   ],
   "source": [
    "nodes.labels.unique()"
   ]
  },
  {
   "cell_type": "code",
   "execution_count": null,
   "metadata": {},
   "outputs": [],
   "source": []
  }
 ],
 "metadata": {
  "kernelspec": {
   "display_name": "text_work",
   "language": "python",
   "name": "python3"
  },
  "language_info": {
   "codemirror_mode": {
    "name": "ipython",
    "version": 3
   },
   "file_extension": ".py",
   "mimetype": "text/x-python",
   "name": "python",
   "nbconvert_exporter": "python",
   "pygments_lexer": "ipython3",
   "version": "3.10.4"
  },
  "orig_nbformat": 4
 },
 "nbformat": 4,
 "nbformat_minor": 2
}
